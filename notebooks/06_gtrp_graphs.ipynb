{
 "cells": [
  {
   "attachments": {},
   "cell_type": "markdown",
   "metadata": {},
   "source": [
    "## adjust countries to be the same information"
   ]
  },
  {
   "cell_type": "code",
   "execution_count": 1,
   "metadata": {},
   "outputs": [
    {
     "name": "stdout",
     "output_type": "stream",
     "text": [
      "Requirement already satisfied: geopy in d:\\cursos\\fiap_pós\\gp27_techchallenge\\.venv\\lib\\site-packages (2.3.0)\n",
      "Requirement already satisfied: translate in d:\\cursos\\fiap_pós\\gp27_techchallenge\\.venv\\lib\\site-packages (3.6.1)\n",
      "Requirement already satisfied: joblib in d:\\cursos\\fiap_pós\\gp27_techchallenge\\.venv\\lib\\site-packages (1.2.0)\n",
      "Requirement already satisfied: geographiclib<3,>=1.52 in d:\\cursos\\fiap_pós\\gp27_techchallenge\\.venv\\lib\\site-packages (from geopy) (2.0)\n",
      "Requirement already satisfied: click in d:\\cursos\\fiap_pós\\gp27_techchallenge\\.venv\\lib\\site-packages (from translate) (8.1.3)\n",
      "Requirement already satisfied: lxml in d:\\cursos\\fiap_pós\\gp27_techchallenge\\.venv\\lib\\site-packages (from translate) (4.9.2)\n",
      "Requirement already satisfied: requests in d:\\cursos\\fiap_pós\\gp27_techchallenge\\.venv\\lib\\site-packages (from translate) (2.31.0)\n",
      "Requirement already satisfied: libretranslatepy==2.1.1 in d:\\cursos\\fiap_pós\\gp27_techchallenge\\.venv\\lib\\site-packages (from translate) (2.1.1)\n",
      "Requirement already satisfied: colorama in d:\\cursos\\fiap_pós\\gp27_techchallenge\\.venv\\lib\\site-packages (from click->translate) (0.4.6)\n",
      "Requirement already satisfied: charset-normalizer<4,>=2 in d:\\cursos\\fiap_pós\\gp27_techchallenge\\.venv\\lib\\site-packages (from requests->translate) (3.1.0)\n",
      "Requirement already satisfied: idna<4,>=2.5 in d:\\cursos\\fiap_pós\\gp27_techchallenge\\.venv\\lib\\site-packages (from requests->translate) (3.4)\n",
      "Requirement already satisfied: urllib3<3,>=1.21.1 in d:\\cursos\\fiap_pós\\gp27_techchallenge\\.venv\\lib\\site-packages (from requests->translate) (2.0.2)\n",
      "Requirement already satisfied: certifi>=2017.4.17 in d:\\cursos\\fiap_pós\\gp27_techchallenge\\.venv\\lib\\site-packages (from requests->translate) (2023.5.7)\n",
      "Note: you may need to restart the kernel to use updated packages.\n"
     ]
    }
   ],
   "source": [
    "%pip install geopy translate joblib"
   ]
  },
  {
   "attachments": {},
   "cell_type": "markdown",
   "metadata": {},
   "source": [
    "### Reading files automatically"
   ]
  },
  {
   "cell_type": "code",
   "execution_count": 19,
   "metadata": {},
   "outputs": [],
   "source": [
    "import os\n",
    "import pandas as pd\n",
    "\n",
    "def _adjust_name(name):\n",
    "    if not('df_' in name):\n",
    "        return 'df_' + name\n",
    "    return name\n",
    "def _get_files_from(base_path = '..\\\\data\\\\processed', extension='csv'):\n",
    "    return [(_adjust_name(name.split('.')[0].lower()), str(os.path.join(root, name))) for (root, _, files) in os.walk(base_path, topdown=False) for name in files if (extension in name)]\n",
    "\n",
    "def read_files(_from='..\\\\data\\\\processed', extension='csv'):\n",
    "    vars = []\n",
    "    for item in _get_files_from(_from, extension=extension):\n",
    "        exec(f'vars.append(\"{item[0]}\")')\n",
    "        exec(f\"{item[0]} = pd.read_csv(r'{item[1]}', sep=';', decimal=',')\")\n",
    "    return vars\n",
    "\n",
    "# _get_files_from()"
   ]
  },
  {
   "attachments": {},
   "cell_type": "markdown",
   "metadata": {},
   "source": [
    "## Load data"
   ]
  },
  {
   "cell_type": "code",
   "execution_count": 115,
   "metadata": {},
   "outputs": [],
   "source": [
    "import os\n",
    "import pandas as pd\n",
    "import numpy as np\n",
    "import joblib\n",
    "import plotly.express as px\n",
    "import plotly.graph_objs as go\n",
    "from plotly.subplots import make_subplots\n",
    "\n",
    "base_path = '..\\\\data\\\\processed'\n",
    "\n",
    "df_noaa_global = pd.read_csv(r'..\\\\data\\\\processed\\\\noaa_global\\\\noaa_global_final.csv', sep=';', decimal=',')\n",
    "df_vinhos = pd.read_csv(r'..\\\\data\\\\processed\\\\tech_challenge\\\\df_vinhos.csv', sep=';', decimal=',')\n",
    "df_temperature_change_data = pd.read_csv(r'..\\\\data\\\\processed\\\\temp_change\\\\temperature_change_Data.csv', sep=';', decimal=',')\n",
    "df_wbpy = pd.read_csv(r'..\\\\data\\\\processed\\\\wbpy\\\\wbpy.csv', sep=';', decimal=',')\n",
    "df_clima_rs =  pd.read_csv(r'..\\\\data\\\\processed\\\\inmet\\\\rs_final.csv', sep=';', decimal=',')"
   ]
  },
  {
   "attachments": {},
   "cell_type": "markdown",
   "metadata": {},
   "source": [
    "## Dados climáticos RS"
   ]
  },
  {
   "cell_type": "code",
   "execution_count": 116,
   "metadata": {},
   "outputs": [],
   "source": [
    "df_precp_global = df_noaa_global.loc[df_noaa_global['stat']=='PRCP']\n",
    "df_precp_global = df_precp_global[['year','country_code','value_median']]\n",
    "df_precp_global = df_precp_global.loc[df_precp_global.year >= min(df_clima_rs.year)]\n",
    "df_precp_global = df_precp_global.loc[df_precp_global.year <= max(df_clima_rs.year)]\n",
    "df_clima_rs = df_clima_rs.rename(columns={'PRCP':'value_median'})\n",
    "df_clima_rs['country_code'] = 'BR-RS'\n",
    "df_full = pd.concat([df_precp_global, df_clima_rs[['year','country_code','value_median']]])"
   ]
  },
  {
   "cell_type": "code",
   "execution_count": 117,
   "metadata": {},
   "outputs": [],
   "source": [
    "def _mape(real, comparado):\n",
    "    return list(abs(np.array(real) - comparado)/comparado)\n",
    "\n",
    "_max_precip = max(df_clima_rs['value_median'])\n",
    "_min_precip = min(df_clima_rs['value_median'])\n",
    "_mean_precip = np.mean(df_clima_rs['value_median'])\n",
    "\n",
    "df_full['dif_perc_max'] = _mape(df_full['value_median'], _max_precip)\n",
    "df_full['rank_per_max_year'] = df_full.groupby('year')['dif_perc_max'].rank()\n",
    "final_rank_max = df_full.groupby(['country_code']).agg({'rank_per_max_year':'sum'}).reset_index()\n",
    "final_rank_max['final_rank_max'] = final_rank_max['rank_per_max_year'].rank()\n",
    "df_full = df_full.drop(columns=['rank_per_max_year']).merge(final_rank_max.drop(columns=['rank_per_max_year']))\n",
    "\n",
    "df_full['dif_perc_min'] = _mape(df_full['value_median'], _min_precip)\n",
    "df_full['rank_per_min_year'] = df_full.groupby('year')['dif_perc_min'].rank()\n",
    "final_rank_max = df_full.groupby(['country_code']).agg({'rank_per_min_year':'sum'}).reset_index()\n",
    "final_rank_max['final_rank_min'] = final_rank_max['rank_per_min_year'].rank()\n",
    "df_full = df_full.drop(columns=['rank_per_min_year']).merge(final_rank_max.drop(columns=['rank_per_min_year']))\n",
    "\n",
    "df_full['dif_perc_mean'] = _mape(df_full['value_median'], _mean_precip)\n",
    "df_full['rank_per_mean_year'] = df_full.groupby('year')['dif_perc_mean'].rank()\n",
    "final_rank_max = df_full.groupby(['country_code']).agg({'rank_per_mean_year':'sum'}).reset_index()\n",
    "final_rank_max['final_rank_mean'] = final_rank_max['rank_per_mean_year'].rank()\n",
    "df_full = df_full.drop(columns=['rank_per_mean_year']).merge(final_rank_max.drop(columns=['rank_per_mean_year']))\n",
    "\n",
    "df_full = df_full.query('final_rank_max <= 6 or final_rank_min <= 6 or final_rank_mean <= 6')"
   ]
  },
  {
   "cell_type": "code",
   "execution_count": 118,
   "metadata": {},
   "outputs": [
    {
     "data": {
      "application/vnd.plotly.v1+json": {
       "config": {
        "plotlyServerURL": "https://plot.ly"
       },
       "data": [
        {
         "customdata": [
          [
           2007,
           20
          ],
          [
           2008,
           20
          ],
          [
           2009,
           20
          ],
          [
           2010,
           30
          ],
          [
           2011,
           28
          ],
          [
           2012,
           25
          ],
          [
           2013,
           27.25
          ],
          [
           2014,
           23
          ],
          [
           2015,
           25
          ],
          [
           2016,
           15
          ],
          [
           2017,
           18
          ],
          [
           2018,
           21.75
          ],
          [
           2019,
           23
          ]
         ],
         "hovertemplate": "country_code=BO<br>year=%{x}<br>value_median=%{y}<extra></extra>",
         "legendgroup": "BO",
         "line": {
          "color": "#636efa",
          "dash": "solid"
         },
         "marker": {
          "symbol": "circle"
         },
         "mode": "lines",
         "name": "BO",
         "orientation": "v",
         "showlegend": true,
         "type": "scatter",
         "x": [
          2007,
          2008,
          2009,
          2010,
          2011,
          2012,
          2013,
          2014,
          2015,
          2016,
          2017,
          2018,
          2019
         ],
         "xaxis": "x",
         "y": [
          20,
          20,
          20,
          30,
          28,
          25,
          27.25,
          23,
          25,
          15,
          18,
          21.75,
          23
         ],
         "yaxis": "y"
        },
        {
         "customdata": [
          [
           2007,
           25.5
          ],
          [
           2008,
           29
          ],
          [
           2009,
           15
          ],
          [
           2010,
           23
          ],
          [
           2011,
           23
          ],
          [
           2012,
           23
          ],
          [
           2013,
           23
          ],
          [
           2014,
           21.5
          ],
          [
           2015,
           25
          ],
          [
           2016,
           20
          ],
          [
           2017,
           20
          ],
          [
           2018,
           22.5
          ],
          [
           2019,
           28
          ]
         ],
         "hovertemplate": "country_code=CR<br>year=%{x}<br>value_median=%{y}<extra></extra>",
         "legendgroup": "CR",
         "line": {
          "color": "#EF553B",
          "dash": "solid"
         },
         "marker": {
          "symbol": "circle"
         },
         "mode": "lines",
         "name": "CR",
         "orientation": "v",
         "showlegend": true,
         "type": "scatter",
         "x": [
          2007,
          2008,
          2009,
          2010,
          2011,
          2012,
          2013,
          2014,
          2015,
          2016,
          2017,
          2018,
          2019
         ],
         "xaxis": "x",
         "y": [
          25.5,
          29,
          15,
          23,
          23,
          23,
          23,
          21.5,
          25,
          20,
          20,
          22.5,
          28
         ],
         "yaxis": "y"
        },
        {
         "customdata": [
          [
           2007,
           75.5
          ],
          [
           2008,
           81
          ],
          [
           2009,
           100.5
          ],
          [
           2010,
           100.5
          ],
          [
           2011,
           109
          ],
          [
           2012,
           96
          ],
          [
           2013,
           102
          ],
          [
           2014,
           89
          ],
          [
           2015,
           71
          ],
          [
           2016,
           81.5
          ],
          [
           2017,
           78
          ],
          [
           2018,
           89
          ],
          [
           2019,
           73
          ]
         ],
         "hovertemplate": "country_code=ID<br>year=%{x}<br>value_median=%{y}<extra></extra>",
         "legendgroup": "ID",
         "line": {
          "color": "#00cc96",
          "dash": "solid"
         },
         "marker": {
          "symbol": "circle"
         },
         "mode": "lines",
         "name": "ID",
         "orientation": "v",
         "showlegend": true,
         "type": "scatter",
         "x": [
          2007,
          2008,
          2009,
          2010,
          2011,
          2012,
          2013,
          2014,
          2015,
          2016,
          2017,
          2018,
          2019
         ],
         "xaxis": "x",
         "y": [
          75.5,
          81,
          100.5,
          100.5,
          109,
          96,
          102,
          89,
          71,
          81.5,
          78,
          89,
          73
         ],
         "yaxis": "y"
        },
        {
         "customdata": [
          [
           2007,
           12
          ],
          [
           2008,
           21
          ],
          [
           2009,
           22.5
          ],
          [
           2010,
           8
          ],
          [
           2011,
           20
          ],
          [
           2012,
           13
          ],
          [
           2013,
           10
          ],
          [
           2014,
           15
          ],
          [
           2015,
           20
          ],
          [
           2016,
           10
          ],
          [
           2017,
           14
          ],
          [
           2018,
           10
          ],
          [
           2019,
           20
          ]
         ],
         "hovertemplate": "country_code=IE<br>year=%{x}<br>value_median=%{y}<extra></extra>",
         "legendgroup": "IE",
         "line": {
          "color": "#ab63fa",
          "dash": "solid"
         },
         "marker": {
          "symbol": "circle"
         },
         "mode": "lines",
         "name": "IE",
         "orientation": "v",
         "showlegend": true,
         "type": "scatter",
         "x": [
          2007,
          2008,
          2009,
          2010,
          2011,
          2012,
          2013,
          2014,
          2015,
          2016,
          2017,
          2018,
          2019
         ],
         "xaxis": "x",
         "y": [
          12,
          21,
          22.5,
          8,
          20,
          13,
          10,
          15,
          20,
          10,
          14,
          10,
          20
         ],
         "yaxis": "y"
        },
        {
         "customdata": [
          [
           2007,
           30
          ],
          [
           2008,
           25
          ],
          [
           2009,
           36
          ],
          [
           2010,
           33
          ],
          [
           2011,
           33
          ],
          [
           2012,
           33
          ],
          [
           2013,
           23
          ],
          [
           2014,
           35
          ],
          [
           2015,
           31.5
          ],
          [
           2016,
           28
          ],
          [
           2017,
           34.5
          ],
          [
           2018,
           20
          ]
         ],
         "hovertemplate": "country_code=LV<br>year=%{x}<br>value_median=%{y}<extra></extra>",
         "legendgroup": "LV",
         "line": {
          "color": "#FFA15A",
          "dash": "solid"
         },
         "marker": {
          "symbol": "circle"
         },
         "mode": "lines",
         "name": "LV",
         "orientation": "v",
         "showlegend": true,
         "type": "scatter",
         "x": [
          2007,
          2008,
          2009,
          2010,
          2011,
          2012,
          2013,
          2014,
          2015,
          2016,
          2017,
          2018
         ],
         "xaxis": "x",
         "y": [
          30,
          25,
          36,
          33,
          33,
          33,
          23,
          35,
          31.5,
          28,
          34.5,
          20
         ],
         "yaxis": "y"
        },
        {
         "customdata": [
          [
           2007,
           0
          ],
          [
           2014,
           0
          ]
         ],
         "hovertemplate": "country_code=NI<br>year=%{x}<br>value_median=%{y}<extra></extra>",
         "legendgroup": "NI",
         "line": {
          "color": "#19d3f3",
          "dash": "solid"
         },
         "marker": {
          "symbol": "circle"
         },
         "mode": "lines",
         "name": "NI",
         "orientation": "v",
         "showlegend": true,
         "type": "scatter",
         "x": [
          2007,
          2014
         ],
         "xaxis": "x",
         "y": [
          0,
          0
         ],
         "yaxis": "y"
        },
        {
         "customdata": [
          [
           2007,
           20
          ],
          [
           2008,
           20
          ],
          [
           2009,
           20
          ],
          [
           2010,
           20
          ],
          [
           2011,
           19
          ],
          [
           2012,
           16.5
          ],
          [
           2013,
           18.5
          ],
          [
           2014,
           23
          ],
          [
           2015,
           25
          ],
          [
           2016,
           26.5
          ],
          [
           2017,
           20
          ],
          [
           2018,
           20
          ],
          [
           2019,
           28.75
          ]
         ],
         "hovertemplate": "country_code=PY<br>year=%{x}<br>value_median=%{y}<extra></extra>",
         "legendgroup": "PY",
         "line": {
          "color": "#FF6692",
          "dash": "solid"
         },
         "marker": {
          "symbol": "circle"
         },
         "mode": "lines",
         "name": "PY",
         "orientation": "v",
         "showlegend": true,
         "type": "scatter",
         "x": [
          2007,
          2008,
          2009,
          2010,
          2011,
          2012,
          2013,
          2014,
          2015,
          2016,
          2017,
          2018,
          2019
         ],
         "xaxis": "x",
         "y": [
          20,
          20,
          20,
          20,
          19,
          16.5,
          18.5,
          23,
          25,
          26.5,
          20,
          20,
          28.75
         ],
         "yaxis": "y"
        },
        {
         "customdata": [
          [
           2007,
           14
          ],
          [
           2008,
           15
          ],
          [
           2009,
           10
          ],
          [
           2010,
           10
          ],
          [
           2011,
           10
          ],
          [
           2012,
           20
          ],
          [
           2013,
           10
          ],
          [
           2014,
           10
          ],
          [
           2015,
           17.5
          ],
          [
           2016,
           20
          ],
          [
           2017,
           15
          ],
          [
           2018,
           15
          ],
          [
           2019,
           4
          ]
         ],
         "hovertemplate": "country_code=TG<br>year=%{x}<br>value_median=%{y}<extra></extra>",
         "legendgroup": "TG",
         "line": {
          "color": "#B6E880",
          "dash": "solid"
         },
         "marker": {
          "symbol": "circle"
         },
         "mode": "lines",
         "name": "TG",
         "orientation": "v",
         "showlegend": true,
         "type": "scatter",
         "x": [
          2007,
          2008,
          2009,
          2010,
          2011,
          2012,
          2013,
          2014,
          2015,
          2016,
          2017,
          2018,
          2019
         ],
         "xaxis": "x",
         "y": [
          14,
          15,
          10,
          10,
          10,
          20,
          10,
          10,
          17.5,
          20,
          15,
          15,
          4
         ],
         "yaxis": "y"
        },
        {
         "customdata": [
          [
           2007,
           28
          ],
          [
           2008,
           25.75
          ],
          [
           2009,
           23
          ],
          [
           2010,
           25
          ],
          [
           2011,
           28.5
          ],
          [
           2012,
           20.75
          ],
          [
           2013,
           24
          ],
          [
           2014,
           24
          ],
          [
           2015,
           25
          ],
          [
           2016,
           25
          ],
          [
           2017,
           28
          ],
          [
           2018,
           23
          ],
          [
           2019,
           18
          ]
         ],
         "hovertemplate": "country_code=TH<br>year=%{x}<br>value_median=%{y}<extra></extra>",
         "legendgroup": "TH",
         "line": {
          "color": "#FF97FF",
          "dash": "solid"
         },
         "marker": {
          "symbol": "circle"
         },
         "mode": "lines",
         "name": "TH",
         "orientation": "v",
         "showlegend": true,
         "type": "scatter",
         "x": [
          2007,
          2008,
          2009,
          2010,
          2011,
          2012,
          2013,
          2014,
          2015,
          2016,
          2017,
          2018,
          2019
         ],
         "xaxis": "x",
         "y": [
          28,
          25.75,
          23,
          25,
          28.5,
          20.75,
          24,
          24,
          25,
          25,
          28,
          23,
          18
         ],
         "yaxis": "y"
        },
        {
         "customdata": [
          [
           2007,
           20
          ],
          [
           2008,
           15
          ],
          [
           2009,
           15
          ],
          [
           2010,
           10
          ],
          [
           2011,
           20
          ],
          [
           2012,
           20
          ],
          [
           2013,
           17.5
          ],
          [
           2014,
           10
          ],
          [
           2015,
           9
          ],
          [
           2016,
           6.5
          ],
          [
           2017,
           10
          ],
          [
           2018,
           10
          ],
          [
           2019,
           20
          ]
         ],
         "hovertemplate": "country_code=VU<br>year=%{x}<br>value_median=%{y}<extra></extra>",
         "legendgroup": "VU",
         "line": {
          "color": "#FECB52",
          "dash": "solid"
         },
         "marker": {
          "symbol": "circle"
         },
         "mode": "lines",
         "name": "VU",
         "orientation": "v",
         "showlegend": true,
         "type": "scatter",
         "x": [
          2007,
          2008,
          2009,
          2010,
          2011,
          2012,
          2013,
          2014,
          2015,
          2016,
          2017,
          2018,
          2019
         ],
         "xaxis": "x",
         "y": [
          20,
          15,
          15,
          10,
          20,
          20,
          17.5,
          10,
          9,
          6.5,
          10,
          10,
          20
         ],
         "yaxis": "y"
        },
        {
         "customdata": [
          [
           2008,
           3
          ],
          [
           2010,
           3
          ],
          [
           2018,
           1.5
          ]
         ],
         "hovertemplate": "country_code=BB<br>year=%{x}<br>value_median=%{y}<extra></extra>",
         "legendgroup": "BB",
         "line": {
          "color": "#636efa",
          "dash": "solid"
         },
         "marker": {
          "symbol": "circle"
         },
         "mode": "lines",
         "name": "BB",
         "orientation": "v",
         "showlegend": true,
         "type": "scatter",
         "x": [
          2008,
          2010,
          2018
         ],
         "xaxis": "x",
         "y": [
          3,
          3,
          1.5
         ],
         "yaxis": "y"
        },
        {
         "customdata": [
          [
           2010,
           40.5
          ],
          [
           2011,
           20.25
          ],
          [
           2012,
           25
          ],
          [
           2013,
           15
          ],
          [
           2014,
           4
          ],
          [
           2015,
           10
          ],
          [
           2016,
           30.5
          ],
          [
           2017,
           25.75
          ],
          [
           2018,
           20
          ],
          [
           2019,
           29.75
          ]
         ],
         "hovertemplate": "country_code=GQ<br>year=%{x}<br>value_median=%{y}<extra></extra>",
         "legendgroup": "GQ",
         "line": {
          "color": "#EF553B",
          "dash": "solid"
         },
         "marker": {
          "symbol": "circle"
         },
         "mode": "lines",
         "name": "GQ",
         "orientation": "v",
         "showlegend": true,
         "type": "scatter",
         "x": [
          2010,
          2011,
          2012,
          2013,
          2014,
          2015,
          2016,
          2017,
          2018,
          2019
         ],
         "xaxis": "x",
         "y": [
          40.5,
          20.25,
          25,
          15,
          4,
          10,
          30.5,
          25.75,
          20,
          29.75
         ],
         "yaxis": "y"
        },
        {
         "customdata": [
          [
           2007,
           20
          ],
          [
           2008,
           19.2
          ],
          [
           2009,
           29.4
          ],
          [
           2010,
           33
          ],
          [
           2011,
           39
          ],
          [
           2012,
           15.6
          ],
          [
           2013,
           22
          ],
          [
           2014,
           44.8
          ],
          [
           2015,
           67.8
          ],
          [
           2016,
           23.3
          ],
          [
           2017,
           37.4
          ],
          [
           2018,
           38
          ],
          [
           2019,
           34.4
          ],
          [
           2020,
           22.2
          ],
          [
           2021,
           22.6
          ],
          [
           2022,
           35.2
          ]
         ],
         "hovertemplate": "country_code=BR-RS<br>year=%{x}<br>value_median=%{y}<extra></extra>",
         "legendgroup": "BR-RS",
         "line": {
          "color": "#00cc96",
          "dash": "solid"
         },
         "marker": {
          "symbol": "circle"
         },
         "mode": "lines",
         "name": "BR-RS",
         "orientation": "v",
         "showlegend": true,
         "type": "scatter",
         "x": [
          2007,
          2008,
          2009,
          2010,
          2011,
          2012,
          2013,
          2014,
          2015,
          2016,
          2017,
          2018,
          2019,
          2020,
          2021,
          2022
         ],
         "xaxis": "x",
         "y": [
          20,
          19.2,
          29.4,
          33,
          39,
          15.6,
          22,
          44.8,
          67.8,
          23.3,
          37.4,
          38,
          34.4,
          22.2,
          22.6,
          35.2
         ],
         "yaxis": "y"
        }
       ],
       "layout": {
        "legend": {
         "title": {
          "text": "country_code"
         },
         "tracegroupgap": 0
        },
        "margin": {
         "t": 60
        },
        "template": {
         "data": {
          "bar": [
           {
            "error_x": {
             "color": "#2a3f5f"
            },
            "error_y": {
             "color": "#2a3f5f"
            },
            "marker": {
             "line": {
              "color": "#E5ECF6",
              "width": 0.5
             },
             "pattern": {
              "fillmode": "overlay",
              "size": 10,
              "solidity": 0.2
             }
            },
            "type": "bar"
           }
          ],
          "barpolar": [
           {
            "marker": {
             "line": {
              "color": "#E5ECF6",
              "width": 0.5
             },
             "pattern": {
              "fillmode": "overlay",
              "size": 10,
              "solidity": 0.2
             }
            },
            "type": "barpolar"
           }
          ],
          "carpet": [
           {
            "aaxis": {
             "endlinecolor": "#2a3f5f",
             "gridcolor": "white",
             "linecolor": "white",
             "minorgridcolor": "white",
             "startlinecolor": "#2a3f5f"
            },
            "baxis": {
             "endlinecolor": "#2a3f5f",
             "gridcolor": "white",
             "linecolor": "white",
             "minorgridcolor": "white",
             "startlinecolor": "#2a3f5f"
            },
            "type": "carpet"
           }
          ],
          "choropleth": [
           {
            "colorbar": {
             "outlinewidth": 0,
             "ticks": ""
            },
            "type": "choropleth"
           }
          ],
          "contour": [
           {
            "colorbar": {
             "outlinewidth": 0,
             "ticks": ""
            },
            "colorscale": [
             [
              0,
              "#0d0887"
             ],
             [
              0.1111111111111111,
              "#46039f"
             ],
             [
              0.2222222222222222,
              "#7201a8"
             ],
             [
              0.3333333333333333,
              "#9c179e"
             ],
             [
              0.4444444444444444,
              "#bd3786"
             ],
             [
              0.5555555555555556,
              "#d8576b"
             ],
             [
              0.6666666666666666,
              "#ed7953"
             ],
             [
              0.7777777777777778,
              "#fb9f3a"
             ],
             [
              0.8888888888888888,
              "#fdca26"
             ],
             [
              1,
              "#f0f921"
             ]
            ],
            "type": "contour"
           }
          ],
          "contourcarpet": [
           {
            "colorbar": {
             "outlinewidth": 0,
             "ticks": ""
            },
            "type": "contourcarpet"
           }
          ],
          "heatmap": [
           {
            "colorbar": {
             "outlinewidth": 0,
             "ticks": ""
            },
            "colorscale": [
             [
              0,
              "#0d0887"
             ],
             [
              0.1111111111111111,
              "#46039f"
             ],
             [
              0.2222222222222222,
              "#7201a8"
             ],
             [
              0.3333333333333333,
              "#9c179e"
             ],
             [
              0.4444444444444444,
              "#bd3786"
             ],
             [
              0.5555555555555556,
              "#d8576b"
             ],
             [
              0.6666666666666666,
              "#ed7953"
             ],
             [
              0.7777777777777778,
              "#fb9f3a"
             ],
             [
              0.8888888888888888,
              "#fdca26"
             ],
             [
              1,
              "#f0f921"
             ]
            ],
            "type": "heatmap"
           }
          ],
          "heatmapgl": [
           {
            "colorbar": {
             "outlinewidth": 0,
             "ticks": ""
            },
            "colorscale": [
             [
              0,
              "#0d0887"
             ],
             [
              0.1111111111111111,
              "#46039f"
             ],
             [
              0.2222222222222222,
              "#7201a8"
             ],
             [
              0.3333333333333333,
              "#9c179e"
             ],
             [
              0.4444444444444444,
              "#bd3786"
             ],
             [
              0.5555555555555556,
              "#d8576b"
             ],
             [
              0.6666666666666666,
              "#ed7953"
             ],
             [
              0.7777777777777778,
              "#fb9f3a"
             ],
             [
              0.8888888888888888,
              "#fdca26"
             ],
             [
              1,
              "#f0f921"
             ]
            ],
            "type": "heatmapgl"
           }
          ],
          "histogram": [
           {
            "marker": {
             "pattern": {
              "fillmode": "overlay",
              "size": 10,
              "solidity": 0.2
             }
            },
            "type": "histogram"
           }
          ],
          "histogram2d": [
           {
            "colorbar": {
             "outlinewidth": 0,
             "ticks": ""
            },
            "colorscale": [
             [
              0,
              "#0d0887"
             ],
             [
              0.1111111111111111,
              "#46039f"
             ],
             [
              0.2222222222222222,
              "#7201a8"
             ],
             [
              0.3333333333333333,
              "#9c179e"
             ],
             [
              0.4444444444444444,
              "#bd3786"
             ],
             [
              0.5555555555555556,
              "#d8576b"
             ],
             [
              0.6666666666666666,
              "#ed7953"
             ],
             [
              0.7777777777777778,
              "#fb9f3a"
             ],
             [
              0.8888888888888888,
              "#fdca26"
             ],
             [
              1,
              "#f0f921"
             ]
            ],
            "type": "histogram2d"
           }
          ],
          "histogram2dcontour": [
           {
            "colorbar": {
             "outlinewidth": 0,
             "ticks": ""
            },
            "colorscale": [
             [
              0,
              "#0d0887"
             ],
             [
              0.1111111111111111,
              "#46039f"
             ],
             [
              0.2222222222222222,
              "#7201a8"
             ],
             [
              0.3333333333333333,
              "#9c179e"
             ],
             [
              0.4444444444444444,
              "#bd3786"
             ],
             [
              0.5555555555555556,
              "#d8576b"
             ],
             [
              0.6666666666666666,
              "#ed7953"
             ],
             [
              0.7777777777777778,
              "#fb9f3a"
             ],
             [
              0.8888888888888888,
              "#fdca26"
             ],
             [
              1,
              "#f0f921"
             ]
            ],
            "type": "histogram2dcontour"
           }
          ],
          "mesh3d": [
           {
            "colorbar": {
             "outlinewidth": 0,
             "ticks": ""
            },
            "type": "mesh3d"
           }
          ],
          "parcoords": [
           {
            "line": {
             "colorbar": {
              "outlinewidth": 0,
              "ticks": ""
             }
            },
            "type": "parcoords"
           }
          ],
          "pie": [
           {
            "automargin": true,
            "type": "pie"
           }
          ],
          "scatter": [
           {
            "fillpattern": {
             "fillmode": "overlay",
             "size": 10,
             "solidity": 0.2
            },
            "type": "scatter"
           }
          ],
          "scatter3d": [
           {
            "line": {
             "colorbar": {
              "outlinewidth": 0,
              "ticks": ""
             }
            },
            "marker": {
             "colorbar": {
              "outlinewidth": 0,
              "ticks": ""
             }
            },
            "type": "scatter3d"
           }
          ],
          "scattercarpet": [
           {
            "marker": {
             "colorbar": {
              "outlinewidth": 0,
              "ticks": ""
             }
            },
            "type": "scattercarpet"
           }
          ],
          "scattergeo": [
           {
            "marker": {
             "colorbar": {
              "outlinewidth": 0,
              "ticks": ""
             }
            },
            "type": "scattergeo"
           }
          ],
          "scattergl": [
           {
            "marker": {
             "colorbar": {
              "outlinewidth": 0,
              "ticks": ""
             }
            },
            "type": "scattergl"
           }
          ],
          "scattermapbox": [
           {
            "marker": {
             "colorbar": {
              "outlinewidth": 0,
              "ticks": ""
             }
            },
            "type": "scattermapbox"
           }
          ],
          "scatterpolar": [
           {
            "marker": {
             "colorbar": {
              "outlinewidth": 0,
              "ticks": ""
             }
            },
            "type": "scatterpolar"
           }
          ],
          "scatterpolargl": [
           {
            "marker": {
             "colorbar": {
              "outlinewidth": 0,
              "ticks": ""
             }
            },
            "type": "scatterpolargl"
           }
          ],
          "scatterternary": [
           {
            "marker": {
             "colorbar": {
              "outlinewidth": 0,
              "ticks": ""
             }
            },
            "type": "scatterternary"
           }
          ],
          "surface": [
           {
            "colorbar": {
             "outlinewidth": 0,
             "ticks": ""
            },
            "colorscale": [
             [
              0,
              "#0d0887"
             ],
             [
              0.1111111111111111,
              "#46039f"
             ],
             [
              0.2222222222222222,
              "#7201a8"
             ],
             [
              0.3333333333333333,
              "#9c179e"
             ],
             [
              0.4444444444444444,
              "#bd3786"
             ],
             [
              0.5555555555555556,
              "#d8576b"
             ],
             [
              0.6666666666666666,
              "#ed7953"
             ],
             [
              0.7777777777777778,
              "#fb9f3a"
             ],
             [
              0.8888888888888888,
              "#fdca26"
             ],
             [
              1,
              "#f0f921"
             ]
            ],
            "type": "surface"
           }
          ],
          "table": [
           {
            "cells": {
             "fill": {
              "color": "#EBF0F8"
             },
             "line": {
              "color": "white"
             }
            },
            "header": {
             "fill": {
              "color": "#C8D4E3"
             },
             "line": {
              "color": "white"
             }
            },
            "type": "table"
           }
          ]
         },
         "layout": {
          "annotationdefaults": {
           "arrowcolor": "#2a3f5f",
           "arrowhead": 0,
           "arrowwidth": 1
          },
          "autotypenumbers": "strict",
          "coloraxis": {
           "colorbar": {
            "outlinewidth": 0,
            "ticks": ""
           }
          },
          "colorscale": {
           "diverging": [
            [
             0,
             "#8e0152"
            ],
            [
             0.1,
             "#c51b7d"
            ],
            [
             0.2,
             "#de77ae"
            ],
            [
             0.3,
             "#f1b6da"
            ],
            [
             0.4,
             "#fde0ef"
            ],
            [
             0.5,
             "#f7f7f7"
            ],
            [
             0.6,
             "#e6f5d0"
            ],
            [
             0.7,
             "#b8e186"
            ],
            [
             0.8,
             "#7fbc41"
            ],
            [
             0.9,
             "#4d9221"
            ],
            [
             1,
             "#276419"
            ]
           ],
           "sequential": [
            [
             0,
             "#0d0887"
            ],
            [
             0.1111111111111111,
             "#46039f"
            ],
            [
             0.2222222222222222,
             "#7201a8"
            ],
            [
             0.3333333333333333,
             "#9c179e"
            ],
            [
             0.4444444444444444,
             "#bd3786"
            ],
            [
             0.5555555555555556,
             "#d8576b"
            ],
            [
             0.6666666666666666,
             "#ed7953"
            ],
            [
             0.7777777777777778,
             "#fb9f3a"
            ],
            [
             0.8888888888888888,
             "#fdca26"
            ],
            [
             1,
             "#f0f921"
            ]
           ],
           "sequentialminus": [
            [
             0,
             "#0d0887"
            ],
            [
             0.1111111111111111,
             "#46039f"
            ],
            [
             0.2222222222222222,
             "#7201a8"
            ],
            [
             0.3333333333333333,
             "#9c179e"
            ],
            [
             0.4444444444444444,
             "#bd3786"
            ],
            [
             0.5555555555555556,
             "#d8576b"
            ],
            [
             0.6666666666666666,
             "#ed7953"
            ],
            [
             0.7777777777777778,
             "#fb9f3a"
            ],
            [
             0.8888888888888888,
             "#fdca26"
            ],
            [
             1,
             "#f0f921"
            ]
           ]
          },
          "colorway": [
           "#636efa",
           "#EF553B",
           "#00cc96",
           "#ab63fa",
           "#FFA15A",
           "#19d3f3",
           "#FF6692",
           "#B6E880",
           "#FF97FF",
           "#FECB52"
          ],
          "font": {
           "color": "#2a3f5f"
          },
          "geo": {
           "bgcolor": "white",
           "lakecolor": "white",
           "landcolor": "#E5ECF6",
           "showlakes": true,
           "showland": true,
           "subunitcolor": "white"
          },
          "hoverlabel": {
           "align": "left"
          },
          "hovermode": "closest",
          "mapbox": {
           "style": "light"
          },
          "paper_bgcolor": "white",
          "plot_bgcolor": "#E5ECF6",
          "polar": {
           "angularaxis": {
            "gridcolor": "white",
            "linecolor": "white",
            "ticks": ""
           },
           "bgcolor": "#E5ECF6",
           "radialaxis": {
            "gridcolor": "white",
            "linecolor": "white",
            "ticks": ""
           }
          },
          "scene": {
           "xaxis": {
            "backgroundcolor": "#E5ECF6",
            "gridcolor": "white",
            "gridwidth": 2,
            "linecolor": "white",
            "showbackground": true,
            "ticks": "",
            "zerolinecolor": "white"
           },
           "yaxis": {
            "backgroundcolor": "#E5ECF6",
            "gridcolor": "white",
            "gridwidth": 2,
            "linecolor": "white",
            "showbackground": true,
            "ticks": "",
            "zerolinecolor": "white"
           },
           "zaxis": {
            "backgroundcolor": "#E5ECF6",
            "gridcolor": "white",
            "gridwidth": 2,
            "linecolor": "white",
            "showbackground": true,
            "ticks": "",
            "zerolinecolor": "white"
           }
          },
          "shapedefaults": {
           "line": {
            "color": "#2a3f5f"
           }
          },
          "ternary": {
           "aaxis": {
            "gridcolor": "white",
            "linecolor": "white",
            "ticks": ""
           },
           "baxis": {
            "gridcolor": "white",
            "linecolor": "white",
            "ticks": ""
           },
           "bgcolor": "#E5ECF6",
           "caxis": {
            "gridcolor": "white",
            "linecolor": "white",
            "ticks": ""
           }
          },
          "title": {
           "x": 0.05
          },
          "xaxis": {
           "automargin": true,
           "gridcolor": "white",
           "linecolor": "white",
           "ticks": "",
           "title": {
            "standoff": 15
           },
           "zerolinecolor": "white",
           "zerolinewidth": 2
          },
          "yaxis": {
           "automargin": true,
           "gridcolor": "white",
           "linecolor": "white",
           "ticks": "",
           "title": {
            "standoff": 15
           },
           "zerolinecolor": "white",
           "zerolinewidth": 2
          }
         }
        },
        "xaxis": {
         "anchor": "y",
         "domain": [
          0,
          1
         ],
         "title": {
          "text": "year"
         }
        },
        "yaxis": {
         "anchor": "x",
         "domain": [
          0,
          1
         ],
         "title": {
          "text": "value_median"
         }
        }
       }
      }
     },
     "metadata": {},
     "output_type": "display_data"
    }
   ],
   "source": [
    "\n",
    "fig = go.Figure()\n",
    "\n",
    "fig = px.line(\n",
    "    df_full, \n",
    "    x='year', y='value_median', color='country_code'\n",
    "    , custom_data=['year', 'value_median']\n",
    ")\n",
    "\n",
    "fig.show()"
   ]
  },
  {
   "cell_type": "code",
   "execution_count": 38,
   "metadata": {},
   "outputs": [
    {
     "data": {
      "text/html": [
       "<div>\n",
       "<style scoped>\n",
       "    .dataframe tbody tr th:only-of-type {\n",
       "        vertical-align: middle;\n",
       "    }\n",
       "\n",
       "    .dataframe tbody tr th {\n",
       "        vertical-align: top;\n",
       "    }\n",
       "\n",
       "    .dataframe thead th {\n",
       "        text-align: right;\n",
       "    }\n",
       "</style>\n",
       "<table border=\"1\" class=\"dataframe\">\n",
       "  <thead>\n",
       "    <tr style=\"text-align: right;\">\n",
       "      <th></th>\n",
       "      <th>year</th>\n",
       "      <th>country_code</th>\n",
       "      <th>value_median</th>\n",
       "    </tr>\n",
       "  </thead>\n",
       "  <tbody>\n",
       "    <tr>\n",
       "      <th>0</th>\n",
       "      <td>1971</td>\n",
       "      <td>AF</td>\n",
       "      <td>0.0</td>\n",
       "    </tr>\n",
       "    <tr>\n",
       "      <th>1</th>\n",
       "      <td>1971</td>\n",
       "      <td>AO</td>\n",
       "      <td>0.0</td>\n",
       "    </tr>\n",
       "    <tr>\n",
       "      <th>2</th>\n",
       "      <td>1971</td>\n",
       "      <td>AR</td>\n",
       "      <td>0.0</td>\n",
       "    </tr>\n",
       "    <tr>\n",
       "      <th>3</th>\n",
       "      <td>1971</td>\n",
       "      <td>AT</td>\n",
       "      <td>0.0</td>\n",
       "    </tr>\n",
       "    <tr>\n",
       "      <th>4</th>\n",
       "      <td>1971</td>\n",
       "      <td>AU</td>\n",
       "      <td>0.0</td>\n",
       "    </tr>\n",
       "    <tr>\n",
       "      <th>...</th>\n",
       "      <td>...</td>\n",
       "      <td>...</td>\n",
       "      <td>...</td>\n",
       "    </tr>\n",
       "    <tr>\n",
       "      <th>11</th>\n",
       "      <td>2018</td>\n",
       "      <td>BR-RS</td>\n",
       "      <td>38.0</td>\n",
       "    </tr>\n",
       "    <tr>\n",
       "      <th>12</th>\n",
       "      <td>2019</td>\n",
       "      <td>BR-RS</td>\n",
       "      <td>34.4</td>\n",
       "    </tr>\n",
       "    <tr>\n",
       "      <th>13</th>\n",
       "      <td>2020</td>\n",
       "      <td>BR-RS</td>\n",
       "      <td>22.2</td>\n",
       "    </tr>\n",
       "    <tr>\n",
       "      <th>14</th>\n",
       "      <td>2021</td>\n",
       "      <td>BR-RS</td>\n",
       "      <td>22.6</td>\n",
       "    </tr>\n",
       "    <tr>\n",
       "      <th>15</th>\n",
       "      <td>2022</td>\n",
       "      <td>BR-RS</td>\n",
       "      <td>35.2</td>\n",
       "    </tr>\n",
       "  </tbody>\n",
       "</table>\n",
       "<p>3422 rows × 3 columns</p>\n",
       "</div>"
      ],
      "text/plain": [
       "    year country_code  value_median\n",
       "0   1971           AF           0.0\n",
       "1   1971           AO           0.0\n",
       "2   1971           AR           0.0\n",
       "3   1971           AT           0.0\n",
       "4   1971           AU           0.0\n",
       "..   ...          ...           ...\n",
       "11  2018        BR-RS          38.0\n",
       "12  2019        BR-RS          34.4\n",
       "13  2020        BR-RS          22.2\n",
       "14  2021        BR-RS          22.6\n",
       "15  2022        BR-RS          35.2\n",
       "\n",
       "[3422 rows x 3 columns]"
      ]
     },
     "execution_count": 38,
     "metadata": {},
     "output_type": "execute_result"
    }
   ],
   "source": [
    "df_full.sort_values(['year','value_median'])"
   ]
  }
 ],
 "metadata": {
  "kernelspec": {
   "display_name": ".venv",
   "language": "python",
   "name": "python3"
  },
  "language_info": {
   "codemirror_mode": {
    "name": "ipython",
    "version": 3
   },
   "file_extension": ".py",
   "mimetype": "text/x-python",
   "name": "python",
   "nbconvert_exporter": "python",
   "pygments_lexer": "ipython3",
   "version": "3.10.4"
  },
  "orig_nbformat": 4
 },
 "nbformat": 4,
 "nbformat_minor": 2
}
