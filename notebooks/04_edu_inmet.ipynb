{
 "cells": [
  {
   "cell_type": "code",
   "execution_count": 1,
   "id": "0a2dc607",
   "metadata": {},
   "outputs": [],
   "source": [
    "import pandas as pd\n",
    "import os"
   ]
  },
  {
   "cell_type": "code",
   "execution_count": 2,
   "id": "f8ae08e7",
   "metadata": {},
   "outputs": [],
   "source": [
    "basedir = '../data/raw/inmet_dados_hist'\n",
    "os.makedirs(basedir)"
   ]
  },
  {
   "cell_type": "code",
   "execution_count": 3,
   "id": "5ca5c022",
   "metadata": {},
   "outputs": [],
   "source": [
    "import requests\n",
    "import zipfile"
   ]
  },
  {
   "cell_type": "code",
   "execution_count": 4,
   "id": "8a2b035a",
   "metadata": {},
   "outputs": [],
   "source": [
    "def download(url, basedir):\n",
    "    file_name = url.split('/')[-1:][0]\n",
    "    file_path = f'{basedir}/{file_name}'\n",
    "    r = requests.get(url)\n",
    "    with open(file_path, 'wb') as file:\n",
    "        file.write(r.content)"
   ]
  },
  {
   "cell_type": "code",
   "execution_count": 5,
   "id": "a1e255ae",
   "metadata": {},
   "outputs": [],
   "source": [
    "baseurl = 'https://portal.inmet.gov.br/uploads/dadoshistoricos/'\n",
    "for year in range(2007,2023):\n",
    "    url = f'{baseurl}/{year}.zip'\n",
    "    download(url=url, basedir=basedir)\n",
    "    "
   ]
  },
  {
   "cell_type": "code",
   "execution_count": 6,
   "id": "3e3c61c2",
   "metadata": {},
   "outputs": [],
   "source": [
    "def unzip(file):\n",
    "    file_name = os.path.abspath(file) \n",
    "    zip_ref = zipfile.ZipFile(file_name) \n",
    "    zip_ref.extractall(basedir) \n",
    "    zip_ref.close() \n",
    "    os.remove(file_name) "
   ]
  },
  {
   "cell_type": "code",
   "execution_count": 7,
   "id": "920bc701",
   "metadata": {},
   "outputs": [
    {
     "name": "stdout",
     "output_type": "stream",
     "text": [
      "2007.zip\n",
      "2008.zip\n",
      "2009.zip\n",
      "2010.zip\n",
      "2011.zip\n",
      "2012.zip\n",
      "2013.zip\n",
      "2014.zip\n",
      "2015.zip\n",
      "2016.zip\n",
      "2017.zip\n",
      "2018.zip\n",
      "2019.zip\n",
      "2020.zip\n",
      "2021.zip\n",
      "2022.zip\n"
     ]
    }
   ],
   "source": [
    "for file in os.listdir(basedir):\n",
    "    if file.endswith('.zip'):\n",
    "        print(file)\n",
    "        unzip(f'{basedir}/{file}')"
   ]
  },
  {
   "cell_type": "code",
   "execution_count": 8,
   "id": "99a08bf7",
   "metadata": {},
   "outputs": [],
   "source": [
    "for item in os.listdir(basedir):\n",
    "    if os.path.isdir(f'{basedir}/{item}'):\n",
    "        for file in os.listdir(f'{basedir}/{item}'):\n",
    "            os.rename(f'{basedir}/{item}/{file}', f'{basedir}/{file}')\n",
    "        os.removedirs(f'{basedir}/{item}')"
   ]
  },
  {
   "cell_type": "code",
   "execution_count": 9,
   "id": "6a2042c6",
   "metadata": {},
   "outputs": [],
   "source": [
    "columns = {\n",
    "    'DATA (YYYY-MM-DD)': 'data', \n",
    "    'HORA (UTC)': 'hora', \n",
    "    'PRECIPITAÇÃO TOTAL, HORÁRIO (mm)': 'prec',\n",
    "    'TEMPERATURA MÁXIMA NA HORA ANT. (AUT) (°C)': 'temp_max',\n",
    "    'TEMPERATURA MÍNIMA NA HORA ANT. (AUT) (°C)': 'temp_min',\n",
    "}\n",
    "columns2 = {\n",
    "    'Data': 'data', \n",
    "    'Hora UTC': 'hora', \n",
    "    'PRECIPITAÇÃO TOTAL, HORÁRIO (mm)': 'prec',\n",
    "    'TEMPERATURA MÁXIMA NA HORA ANT. (AUT) (°C)': 'temp_max',\n",
    "    'TEMPERATURA MÍNIMA NA HORA ANT. (AUT) (°C)': 'temp_min',\n",
    "}"
   ]
  },
  {
   "cell_type": "code",
   "execution_count": 10,
   "id": "65240169",
   "metadata": {},
   "outputs": [
    {
     "name": "stdout",
     "output_type": "stream",
     "text": [
      "Erro ao processar arquivo INMET_SE_MG_S122_EB_PEF_BONFIM_01-01-2017_A_31-12-2017.CSV\n",
      "Erro ao processar arquivo INMET_SE_MG_S122_EB_PEF_BONFIM_01-01-2018_A_31-12-2018.CSV\n",
      "Erro ao processar arquivo INMET_SE_MG_S122_EB_PEF_BONFIM_01-12-2016_A_31-12-2016.CSV\n"
     ]
    }
   ],
   "source": [
    "df_final = None\n",
    "for file in os.listdir(basedir):\n",
    "    try:\n",
    "        _, regiao, uf, _, municipio, _, _, final = file.split('_')\n",
    "\n",
    "        if uf != 'RS':\n",
    "            continue\n",
    "        ano = int(final.split('.')[0][-4:])\n",
    "        df = pd.read_csv(f'{basedir}/{file}',\n",
    "                        sep=';',\n",
    "                        encoding='ISO-8859-1',\n",
    "                        skiprows=8)\n",
    "        if ano < 2019: # a partir de 2019 mudou o padrão do cabeçalho\n",
    "            df = df[columns.keys()]\n",
    "            df.columns = columns.values()\n",
    "        else:\n",
    "            df = df[columns2.keys()]\n",
    "            df.columns = columns2.values()\n",
    "        df['regiao'] = regiao\n",
    "        df['uf'] = uf\n",
    "        df['municipio'] = municipio\n",
    "\n",
    "        df_final = pd.concat([df_final, df], ignore_index=True)\n",
    "    except:\n",
    "        print(f'Erro ao processar arquivo {file}')\n",
    "        \n",
    "    "
   ]
  },
  {
   "cell_type": "code",
   "execution_count": 11,
   "id": "7df62830",
   "metadata": {},
   "outputs": [
    {
     "ename": "FileExistsError",
     "evalue": "[WinError 183] Não é possível criar um arquivo já existente: '../data/processed/inmet'",
     "output_type": "error",
     "traceback": [
      "\u001b[1;31m---------------------------------------------------------------------------\u001b[0m",
      "\u001b[1;31mFileExistsError\u001b[0m                           Traceback (most recent call last)",
      "Cell \u001b[1;32mIn[11], line 1\u001b[0m\n\u001b[1;32m----> 1\u001b[0m os\u001b[39m.\u001b[39;49mmakedirs(\u001b[39m'\u001b[39;49m\u001b[39m../data/processed/inmet\u001b[39;49m\u001b[39m'\u001b[39;49m)\n",
      "File \u001b[1;32m~\\AppData\\Local\\Programs\\Python\\Python310\\lib\\os.py:225\u001b[0m, in \u001b[0;36mmakedirs\u001b[1;34m(name, mode, exist_ok)\u001b[0m\n\u001b[0;32m    223\u001b[0m         \u001b[39mreturn\u001b[39;00m\n\u001b[0;32m    224\u001b[0m \u001b[39mtry\u001b[39;00m:\n\u001b[1;32m--> 225\u001b[0m     mkdir(name, mode)\n\u001b[0;32m    226\u001b[0m \u001b[39mexcept\u001b[39;00m \u001b[39mOSError\u001b[39;00m:\n\u001b[0;32m    227\u001b[0m     \u001b[39m# Cannot rely on checking for EEXIST, since the operating system\u001b[39;00m\n\u001b[0;32m    228\u001b[0m     \u001b[39m# could give priority to other errors like EACCES or EROFS\u001b[39;00m\n\u001b[0;32m    229\u001b[0m     \u001b[39mif\u001b[39;00m \u001b[39mnot\u001b[39;00m exist_ok \u001b[39mor\u001b[39;00m \u001b[39mnot\u001b[39;00m path\u001b[39m.\u001b[39misdir(name):\n",
      "\u001b[1;31mFileExistsError\u001b[0m: [WinError 183] Não é possível criar um arquivo já existente: '../data/processed/inmet'"
     ]
    }
   ],
   "source": [
    "os.makedirs('../data/processed/inmet')"
   ]
  },
  {
   "cell_type": "code",
   "execution_count": 12,
   "id": "57e5c6fa",
   "metadata": {},
   "outputs": [],
   "source": [
    "df_final.to_csv('../data/processed/inmet/rs.csv', sep=';')"
   ]
  },
  {
   "cell_type": "code",
   "execution_count": null,
   "id": "0f32283a",
   "metadata": {},
   "outputs": [
    {
     "data": {
      "text/html": [
       "<div>\n",
       "<style scoped>\n",
       "    .dataframe tbody tr th:only-of-type {\n",
       "        vertical-align: middle;\n",
       "    }\n",
       "\n",
       "    .dataframe tbody tr th {\n",
       "        vertical-align: top;\n",
       "    }\n",
       "\n",
       "    .dataframe thead th {\n",
       "        text-align: right;\n",
       "    }\n",
       "</style>\n",
       "<table border=\"1\" class=\"dataframe\">\n",
       "  <thead>\n",
       "    <tr style=\"text-align: right;\">\n",
       "      <th></th>\n",
       "      <th>data</th>\n",
       "      <th>hora</th>\n",
       "      <th>prec</th>\n",
       "      <th>temp_max</th>\n",
       "      <th>temp_min</th>\n",
       "      <th>regiao</th>\n",
       "      <th>uf</th>\n",
       "      <th>municipio</th>\n",
       "    </tr>\n",
       "  </thead>\n",
       "  <tbody>\n",
       "    <tr>\n",
       "      <th>0</th>\n",
       "      <td>2022/01/01</td>\n",
       "      <td>0000 UTC</td>\n",
       "      <td>0</td>\n",
       "      <td>26,4</td>\n",
       "      <td>25</td>\n",
       "      <td>S</td>\n",
       "      <td>RS</td>\n",
       "      <td>PORTO ALEGRE - JARDIM BOTANICO</td>\n",
       "    </tr>\n",
       "    <tr>\n",
       "      <th>1</th>\n",
       "      <td>2022/01/01</td>\n",
       "      <td>0100 UTC</td>\n",
       "      <td>0</td>\n",
       "      <td>25</td>\n",
       "      <td>24,1</td>\n",
       "      <td>S</td>\n",
       "      <td>RS</td>\n",
       "      <td>PORTO ALEGRE - JARDIM BOTANICO</td>\n",
       "    </tr>\n",
       "    <tr>\n",
       "      <th>2</th>\n",
       "      <td>2022/01/01</td>\n",
       "      <td>0200 UTC</td>\n",
       "      <td>0</td>\n",
       "      <td>24,1</td>\n",
       "      <td>23,6</td>\n",
       "      <td>S</td>\n",
       "      <td>RS</td>\n",
       "      <td>PORTO ALEGRE - JARDIM BOTANICO</td>\n",
       "    </tr>\n",
       "    <tr>\n",
       "      <th>3</th>\n",
       "      <td>2022/01/01</td>\n",
       "      <td>0300 UTC</td>\n",
       "      <td>0</td>\n",
       "      <td>23,8</td>\n",
       "      <td>23,3</td>\n",
       "      <td>S</td>\n",
       "      <td>RS</td>\n",
       "      <td>PORTO ALEGRE - JARDIM BOTANICO</td>\n",
       "    </tr>\n",
       "    <tr>\n",
       "      <th>4</th>\n",
       "      <td>2022/01/01</td>\n",
       "      <td>0400 UTC</td>\n",
       "      <td>0</td>\n",
       "      <td>23,6</td>\n",
       "      <td>22,5</td>\n",
       "      <td>S</td>\n",
       "      <td>RS</td>\n",
       "      <td>PORTO ALEGRE - JARDIM BOTANICO</td>\n",
       "    </tr>\n",
       "  </tbody>\n",
       "</table>\n",
       "</div>"
      ],
      "text/plain": [
       "         data      hora prec temp_max temp_min regiao  uf   \n",
       "0  2022/01/01  0000 UTC    0     26,4       25      S  RS  \\\n",
       "1  2022/01/01  0100 UTC    0       25     24,1      S  RS   \n",
       "2  2022/01/01  0200 UTC    0     24,1     23,6      S  RS   \n",
       "3  2022/01/01  0300 UTC    0     23,8     23,3      S  RS   \n",
       "4  2022/01/01  0400 UTC    0     23,6     22,5      S  RS   \n",
       "\n",
       "                        municipio  \n",
       "0  PORTO ALEGRE - JARDIM BOTANICO  \n",
       "1  PORTO ALEGRE - JARDIM BOTANICO  \n",
       "2  PORTO ALEGRE - JARDIM BOTANICO  \n",
       "3  PORTO ALEGRE - JARDIM BOTANICO  \n",
       "4  PORTO ALEGRE - JARDIM BOTANICO  "
      ]
     },
     "execution_count": 112,
     "metadata": {},
     "output_type": "execute_result"
    }
   ],
   "source": [
    "df_final.head()"
   ]
  },
  {
   "cell_type": "code",
   "execution_count": null,
   "id": "b255aaf2",
   "metadata": {},
   "outputs": [],
   "source": []
  },
  {
   "cell_type": "code",
   "execution_count": null,
   "id": "00877434",
   "metadata": {},
   "outputs": [],
   "source": []
  }
 ],
 "metadata": {
  "kernelspec": {
   "display_name": "Python 3 (ipykernel)",
   "language": "python",
   "name": "python3"
  },
  "language_info": {
   "codemirror_mode": {
    "name": "ipython",
    "version": 3
   },
   "file_extension": ".py",
   "mimetype": "text/x-python",
   "name": "python",
   "nbconvert_exporter": "python",
   "pygments_lexer": "ipython3",
   "version": "3.10.4"
  }
 },
 "nbformat": 4,
 "nbformat_minor": 5
}
