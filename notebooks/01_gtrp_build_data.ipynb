{
 "cells": [
  {
   "cell_type": "code",
   "execution_count": 75,
   "metadata": {},
   "outputs": [
    {
     "name": "stdout",
     "output_type": "stream",
     "text": [
      "Note: you may need to restart the kernel to use updated packages.\n"
     ]
    }
   ],
   "source": [
    "pip install  nbformat>=4.2.0"
   ]
  },
  {
   "cell_type": "code",
   "execution_count": 76,
   "metadata": {},
   "outputs": [
    {
     "name": "stdout",
     "output_type": "stream",
     "text": [
      "Note: you may need to restart the kernel to use updated packages.\n"
     ]
    }
   ],
   "source": [
    "pip freeze > ..//requirements.txt"
   ]
  },
  {
   "cell_type": "code",
   "execution_count": 13,
   "metadata": {},
   "outputs": [],
   "source": [
    "import pandas as pd\n",
    "import numpy as np"
   ]
  },
  {
   "attachments": {},
   "cell_type": "markdown",
   "metadata": {},
   "source": [
    "## First, downloading data from the indicated source:\n",
    "\n",
    "- [Dados da Vitivinicultura](http://vitibrasil.cnpuv.embrapa.br/index.php?opcao=opt_01) was indicated as main source of data;"
   ]
  },
  {
   "cell_type": "code",
   "execution_count": 40,
   "metadata": {},
   "outputs": [],
   "source": [
    "def download(url = 'http://vitibrasil.cnpuv.embrapa.br/download/ExpVinho.csv', layer='raw'):\n",
    "    import requests, os\n",
    "\n",
    "    file_name = url.split('/')[-1:][0]\n",
    "    file_path = f'..\\data\\{layer}\\{file_name}'\n",
    "    if not(os.path.isfile(file_path)):\n",
    "        try:\n",
    "            r = requests.get(url, allow_redirects=True)\n",
    "            with open(file_path, 'wb') as file:\n",
    "                file.write(r.content)\n",
    "        except:\n",
    "            raise\n",
    "    return file_path, os.path.isfile(file_path)\n",
    "\n",
    "urls_to_download = [\n",
    "      'http://vitibrasil.cnpuv.embrapa.br/download/Comercio.csv'\n",
    "    , 'http://vitibrasil.cnpuv.embrapa.br/download/ExpVinho.csv'\n",
    "    , 'http://vitibrasil.cnpuv.embrapa.br/download/Producao.csv'\n",
    "\n",
    "    ]\n",
    "downloaded_files = {download(url = _url, layer='raw\\\\tech_challenge') for _url in urls_to_download}"
   ]
  },
  {
   "cell_type": "code",
   "execution_count": 71,
   "metadata": {},
   "outputs": [
    {
     "name": "stdout",
     "output_type": "stream",
     "text": [
      "True\n",
      "True\n",
      "True\n"
     ]
    }
   ],
   "source": [
    "for item in downloaded_files:\n",
    "    print(item[1])"
   ]
  },
  {
   "attachments": {},
   "cell_type": "markdown",
   "metadata": {},
   "source": [
    "## Now, we need to search for climate & economic data from world:\n",
    "\n",
    "- [WBPY](https://pypi.org/project/wbpy/) maybe can give us climate and economics data\n",
    "- Was made from https://documents.worldbank.org/en/publication/documents-reports/api"
   ]
  },
  {
   "cell_type": "code",
   "execution_count": 60,
   "metadata": {},
   "outputs": [],
   "source": [
    "import wbpy\n",
    "def chunker(seq, size):\n",
    "    return (seq[pos:pos + size] for pos in range(0, len(seq), size))\n",
    "\n",
    "api = wbpy.IndicatorAPI()"
   ]
  },
  {
   "cell_type": "code",
   "execution_count": 61,
   "metadata": {},
   "outputs": [
    {
     "name": "stdout",
     "output_type": "stream",
     "text": [
      "http://api.worldbank.org/v2/country?format=json&per_page=10000\n"
     ]
    }
   ],
   "source": [
    "dict_countries = api.get_countries()\n",
    "list_of_countries = list(dict_countries.keys())"
   ]
  },
  {
   "cell_type": "code",
   "execution_count": 67,
   "metadata": {},
   "outputs": [
    {
     "name": "stdout",
     "output_type": "stream",
     "text": [
      "http://api.worldbank.org/v2/countries/ABW;ZH;AFG;A9;ZI;AGO;ALB;AND;1A;ARE/indicators/FP.CPI.TOTL.ZG?date=1970%3A2021&format=json&per_page=10000\n",
      "http://api.worldbank.org/v2/countries/ARG;ARM;ASM;ATG;AUS;AUT;AZE;BDI;B4;B7/indicators/FP.CPI.TOTL.ZG?date=1970%3A2021&format=json&per_page=10000\n",
      "http://api.worldbank.org/v2/countries/BEL;BEN;BFA;BGD;BGR;B1;BHR;BHS;BIH;B2/indicators/FP.CPI.TOTL.ZG?date=1970%3A2021&format=json&per_page=10000\n",
      "http://api.worldbank.org/v2/countries/BLR;BLZ;B3;BMU;BOL;BRA;BRB;BRN;B6;BTN/indicators/FP.CPI.TOTL.ZG?date=1970%3A2021&format=json&per_page=10000\n",
      "http://api.worldbank.org/v2/countries/BWA;C9;CAF;CAN;C4;B8;C5;CHE;JG;CHL/indicators/FP.CPI.TOTL.ZG?date=1970%3A2021&format=json&per_page=10000\n",
      "http://api.worldbank.org/v2/countries/CHN;CIV;C6;C7;CMR;COD;COG;COL;COM;CPV/indicators/FP.CPI.TOTL.ZG?date=1970%3A2021&format=json&per_page=10000\n",
      "http://api.worldbank.org/v2/countries/CRI;C8;S3;CUB;CUW;CYM;CYP;CZE;D4;D7/indicators/FP.CPI.TOTL.ZG?date=1970%3A2021&format=json&per_page=10000\n",
      "http://api.worldbank.org/v2/countries/DEU;D8;DJI;D2;DMA;D3;D9;DNK;N6;DOM/indicators/FP.CPI.TOTL.ZG?date=1970%3A2021&format=json&per_page=10000\n",
      "http://api.worldbank.org/v2/countries/D5;F6;D6;DZA;4E;V2;Z4;7E;Z7;ECU/indicators/FP.CPI.TOTL.ZG?date=1970%3A2021&format=json&per_page=10000\n",
      "http://api.worldbank.org/v2/countries/EGY;XC;ERI;ESP;EST;ETH;EU;F1;FIN;FJI/indicators/FP.CPI.TOTL.ZG?date=1970%3A2021&format=json&per_page=10000\n",
      "http://api.worldbank.org/v2/countries/FRA;FRO;FSM;6F;GAB;GBR;GEO;GHA;GIB;GIN/indicators/FP.CPI.TOTL.ZG?date=1970%3A2021&format=json&per_page=10000\n",
      "http://api.worldbank.org/v2/countries/GMB;GNB;GNQ;GRC;GRD;GRL;GTM;GUM;GUY;XD/indicators/FP.CPI.TOTL.ZG?date=1970%3A2021&format=json&per_page=10000\n",
      "http://api.worldbank.org/v2/countries/HKG;HND;XE;HRV;HTI;HUN;ZB;XF;ZT;XG/indicators/FP.CPI.TOTL.ZG?date=1970%3A2021&format=json&per_page=10000\n",
      "http://api.worldbank.org/v2/countries/XH;IDN;XI;IMN;IND;XY;IRL;IRN;IRQ;ISL/indicators/FP.CPI.TOTL.ZG?date=1970%3A2021&format=json&per_page=10000\n",
      "http://api.worldbank.org/v2/countries/ISR;ITA;JAM;JOR;JPN;KAZ;KEN;KGZ;KHM;KIR/indicators/FP.CPI.TOTL.ZG?date=1970%3A2021&format=json&per_page=10000\n",
      "http://api.worldbank.org/v2/countries/KNA;KOR;KWT;XJ;LAO;LBN;LBR;LBY;LCA;ZJ/indicators/FP.CPI.TOTL.ZG?date=1970%3A2021&format=json&per_page=10000\n",
      "http://api.worldbank.org/v2/countries/XL;XM;LIE;LKA;XN;XO;LSO;V3;LTU;LUX/indicators/FP.CPI.TOTL.ZG?date=1970%3A2021&format=json&per_page=10000\n",
      "http://api.worldbank.org/v2/countries/LVA;MAC;MAF;MAR;MCO;MDA;M1;MDG;MDV;ZQ/indicators/FP.CPI.TOTL.ZG?date=1970%3A2021&format=json&per_page=10000\n",
      "http://api.worldbank.org/v2/countries/MEX;MHL;XP;MKD;MLI;MLT;MMR;XQ;MNE;MNG/indicators/FP.CPI.TOTL.ZG?date=1970%3A2021&format=json&per_page=10000\n",
      "http://api.worldbank.org/v2/countries/MNP;MOZ;MRT;MUS;MWI;MYS;XU;M2;NAM;NCL/indicators/FP.CPI.TOTL.ZG?date=1970%3A2021&format=json&per_page=10000\n",
      "http://api.worldbank.org/v2/countries/NER;NGA;NIC;NLD;NOR;NPL;6X;NRU;6N;NZL/indicators/FP.CPI.TOTL.ZG?date=1970%3A2021&format=json&per_page=10000\n",
      "http://api.worldbank.org/v2/countries/OE;OMN;S4;PAK;PAN;PER;PHL;PLW;PNG;POL/indicators/FP.CPI.TOTL.ZG?date=1970%3A2021&format=json&per_page=10000\n",
      "http://api.worldbank.org/v2/countries/V1;PRI;PRK;PRT;PRY;PSE;S2;V4;PYF;QAT/indicators/FP.CPI.TOTL.ZG?date=1970%3A2021&format=json&per_page=10000\n",
      "http://api.worldbank.org/v2/countries/ROU;R6;RUS;RWA;8S;SAU;SDN;SEN;SGP;SLB/indicators/FP.CPI.TOTL.ZG?date=1970%3A2021&format=json&per_page=10000\n",
      "http://api.worldbank.org/v2/countries/SLE;SLV;SMR;SOM;SRB;ZF;SSD;ZG;S1;STP/indicators/FP.CPI.TOTL.ZG?date=1970%3A2021&format=json&per_page=10000\n",
      "http://api.worldbank.org/v2/countries/SUR;SVK;SVN;SWE;SWZ;SXM;A4;SYC;SYR;TCA/indicators/FP.CPI.TOTL.ZG?date=1970%3A2021&format=json&per_page=10000\n",
      "http://api.worldbank.org/v2/countries/TCD;T4;T7;TGO;THA;TJK;TKM;T2;TLS;T3/indicators/FP.CPI.TOTL.ZG?date=1970%3A2021&format=json&per_page=10000\n",
      "http://api.worldbank.org/v2/countries/TON;T5;T6;TTO;TUN;TUR;TUV;TWN;TZA;UGA/indicators/FP.CPI.TOTL.ZG?date=1970%3A2021&format=json&per_page=10000\n",
      "http://api.worldbank.org/v2/countries/UKR;XT;URY;USA;UZB;VCT;VEN;VGB;VIR;VNM/indicators/FP.CPI.TOTL.ZG?date=1970%3A2021&format=json&per_page=10000\n",
      "http://api.worldbank.org/v2/countries/VUT;1W;WSM;XK;A5;YEM;ZAF;ZMB;ZWE/indicators/FP.CPI.TOTL.ZG?date=1970%3A2021&format=json&per_page=10000\n"
     ]
    },
    {
     "ename": "OSError",
     "evalue": "Cannot save file into a non-existent directory: '..\\data\\raw\\wbpy'",
     "output_type": "error",
     "traceback": [
      "\u001b[1;31m---------------------------------------------------------------------------\u001b[0m",
      "\u001b[1;31mOSError\u001b[0m                                   Traceback (most recent call last)",
      "Cell \u001b[1;32mIn[67], line 21\u001b[0m\n\u001b[0;32m     19\u001b[0m   \u001b[39mexcept\u001b[39;00m:\n\u001b[0;32m     20\u001b[0m     \u001b[39mprint\u001b[39m(\u001b[39mf\u001b[39m\u001b[39m\"\u001b[39m\u001b[39merror in \u001b[39m\u001b[39m{\u001b[39;00mcountries\u001b[39m}\u001b[39;00m\u001b[39m\"\u001b[39m)\n\u001b[1;32m---> 21\u001b[0m pd\u001b[39m.\u001b[39;49mconcat(list_results)\u001b[39m.\u001b[39;49mto_csv(\u001b[39mf\u001b[39;49m\u001b[39m\"\u001b[39;49m\u001b[39m..\u001b[39;49m\u001b[39m\\\\\u001b[39;49;00m\u001b[39mdata\u001b[39;49m\u001b[39m\\\\\u001b[39;49;00m\u001b[39mraw\u001b[39;49m\u001b[39m\\\\\u001b[39;49;00m\u001b[39mwbpy\u001b[39;49m\u001b[39m\\\\\u001b[39;49;00m\u001b[39m{\u001b[39;49;00mkey\u001b[39m}\u001b[39;49;00m\u001b[39m.csv\u001b[39;49m\u001b[39m\"\u001b[39;49m)\n",
      "File \u001b[1;32md:\\Cursos\\FIAP_pós\\gp27_techchallenge\\.venv\\lib\\site-packages\\pandas\\core\\generic.py:3772\u001b[0m, in \u001b[0;36mNDFrame.to_csv\u001b[1;34m(self, path_or_buf, sep, na_rep, float_format, columns, header, index, index_label, mode, encoding, compression, quoting, quotechar, lineterminator, chunksize, date_format, doublequote, escapechar, decimal, errors, storage_options)\u001b[0m\n\u001b[0;32m   3761\u001b[0m df \u001b[39m=\u001b[39m \u001b[39mself\u001b[39m \u001b[39mif\u001b[39;00m \u001b[39misinstance\u001b[39m(\u001b[39mself\u001b[39m, ABCDataFrame) \u001b[39melse\u001b[39;00m \u001b[39mself\u001b[39m\u001b[39m.\u001b[39mto_frame()\n\u001b[0;32m   3763\u001b[0m formatter \u001b[39m=\u001b[39m DataFrameFormatter(\n\u001b[0;32m   3764\u001b[0m     frame\u001b[39m=\u001b[39mdf,\n\u001b[0;32m   3765\u001b[0m     header\u001b[39m=\u001b[39mheader,\n\u001b[1;32m   (...)\u001b[0m\n\u001b[0;32m   3769\u001b[0m     decimal\u001b[39m=\u001b[39mdecimal,\n\u001b[0;32m   3770\u001b[0m )\n\u001b[1;32m-> 3772\u001b[0m \u001b[39mreturn\u001b[39;00m DataFrameRenderer(formatter)\u001b[39m.\u001b[39;49mto_csv(\n\u001b[0;32m   3773\u001b[0m     path_or_buf,\n\u001b[0;32m   3774\u001b[0m     lineterminator\u001b[39m=\u001b[39;49mlineterminator,\n\u001b[0;32m   3775\u001b[0m     sep\u001b[39m=\u001b[39;49msep,\n\u001b[0;32m   3776\u001b[0m     encoding\u001b[39m=\u001b[39;49mencoding,\n\u001b[0;32m   3777\u001b[0m     errors\u001b[39m=\u001b[39;49merrors,\n\u001b[0;32m   3778\u001b[0m     compression\u001b[39m=\u001b[39;49mcompression,\n\u001b[0;32m   3779\u001b[0m     quoting\u001b[39m=\u001b[39;49mquoting,\n\u001b[0;32m   3780\u001b[0m     columns\u001b[39m=\u001b[39;49mcolumns,\n\u001b[0;32m   3781\u001b[0m     index_label\u001b[39m=\u001b[39;49mindex_label,\n\u001b[0;32m   3782\u001b[0m     mode\u001b[39m=\u001b[39;49mmode,\n\u001b[0;32m   3783\u001b[0m     chunksize\u001b[39m=\u001b[39;49mchunksize,\n\u001b[0;32m   3784\u001b[0m     quotechar\u001b[39m=\u001b[39;49mquotechar,\n\u001b[0;32m   3785\u001b[0m     date_format\u001b[39m=\u001b[39;49mdate_format,\n\u001b[0;32m   3786\u001b[0m     doublequote\u001b[39m=\u001b[39;49mdoublequote,\n\u001b[0;32m   3787\u001b[0m     escapechar\u001b[39m=\u001b[39;49mescapechar,\n\u001b[0;32m   3788\u001b[0m     storage_options\u001b[39m=\u001b[39;49mstorage_options,\n\u001b[0;32m   3789\u001b[0m )\n",
      "File \u001b[1;32md:\\Cursos\\FIAP_pós\\gp27_techchallenge\\.venv\\lib\\site-packages\\pandas\\io\\formats\\format.py:1186\u001b[0m, in \u001b[0;36mDataFrameRenderer.to_csv\u001b[1;34m(self, path_or_buf, encoding, sep, columns, index_label, mode, compression, quoting, quotechar, lineterminator, chunksize, date_format, doublequote, escapechar, errors, storage_options)\u001b[0m\n\u001b[0;32m   1165\u001b[0m     created_buffer \u001b[39m=\u001b[39m \u001b[39mFalse\u001b[39;00m\n\u001b[0;32m   1167\u001b[0m csv_formatter \u001b[39m=\u001b[39m CSVFormatter(\n\u001b[0;32m   1168\u001b[0m     path_or_buf\u001b[39m=\u001b[39mpath_or_buf,\n\u001b[0;32m   1169\u001b[0m     lineterminator\u001b[39m=\u001b[39mlineterminator,\n\u001b[1;32m   (...)\u001b[0m\n\u001b[0;32m   1184\u001b[0m     formatter\u001b[39m=\u001b[39m\u001b[39mself\u001b[39m\u001b[39m.\u001b[39mfmt,\n\u001b[0;32m   1185\u001b[0m )\n\u001b[1;32m-> 1186\u001b[0m csv_formatter\u001b[39m.\u001b[39;49msave()\n\u001b[0;32m   1188\u001b[0m \u001b[39mif\u001b[39;00m created_buffer:\n\u001b[0;32m   1189\u001b[0m     \u001b[39massert\u001b[39;00m \u001b[39misinstance\u001b[39m(path_or_buf, StringIO)\n",
      "File \u001b[1;32md:\\Cursos\\FIAP_pós\\gp27_techchallenge\\.venv\\lib\\site-packages\\pandas\\io\\formats\\csvs.py:240\u001b[0m, in \u001b[0;36mCSVFormatter.save\u001b[1;34m(self)\u001b[0m\n\u001b[0;32m    236\u001b[0m \u001b[39m\u001b[39m\u001b[39m\"\"\"\u001b[39;00m\n\u001b[0;32m    237\u001b[0m \u001b[39mCreate the writer & save.\u001b[39;00m\n\u001b[0;32m    238\u001b[0m \u001b[39m\"\"\"\u001b[39;00m\n\u001b[0;32m    239\u001b[0m \u001b[39m# apply compression and byte/text conversion\u001b[39;00m\n\u001b[1;32m--> 240\u001b[0m \u001b[39mwith\u001b[39;00m get_handle(\n\u001b[0;32m    241\u001b[0m     \u001b[39mself\u001b[39;49m\u001b[39m.\u001b[39;49mfilepath_or_buffer,\n\u001b[0;32m    242\u001b[0m     \u001b[39mself\u001b[39;49m\u001b[39m.\u001b[39;49mmode,\n\u001b[0;32m    243\u001b[0m     encoding\u001b[39m=\u001b[39;49m\u001b[39mself\u001b[39;49m\u001b[39m.\u001b[39;49mencoding,\n\u001b[0;32m    244\u001b[0m     errors\u001b[39m=\u001b[39;49m\u001b[39mself\u001b[39;49m\u001b[39m.\u001b[39;49merrors,\n\u001b[0;32m    245\u001b[0m     compression\u001b[39m=\u001b[39;49m\u001b[39mself\u001b[39;49m\u001b[39m.\u001b[39;49mcompression,\n\u001b[0;32m    246\u001b[0m     storage_options\u001b[39m=\u001b[39;49m\u001b[39mself\u001b[39;49m\u001b[39m.\u001b[39;49mstorage_options,\n\u001b[0;32m    247\u001b[0m ) \u001b[39mas\u001b[39;00m handles:\n\u001b[0;32m    248\u001b[0m     \u001b[39m# Note: self.encoding is irrelevant here\u001b[39;00m\n\u001b[0;32m    249\u001b[0m     \u001b[39mself\u001b[39m\u001b[39m.\u001b[39mwriter \u001b[39m=\u001b[39m csvlib\u001b[39m.\u001b[39mwriter(\n\u001b[0;32m    250\u001b[0m         handles\u001b[39m.\u001b[39mhandle,\n\u001b[0;32m    251\u001b[0m         lineterminator\u001b[39m=\u001b[39m\u001b[39mself\u001b[39m\u001b[39m.\u001b[39mlineterminator,\n\u001b[1;32m   (...)\u001b[0m\n\u001b[0;32m    256\u001b[0m         quotechar\u001b[39m=\u001b[39m\u001b[39mself\u001b[39m\u001b[39m.\u001b[39mquotechar,\n\u001b[0;32m    257\u001b[0m     )\n\u001b[0;32m    259\u001b[0m     \u001b[39mself\u001b[39m\u001b[39m.\u001b[39m_save()\n",
      "File \u001b[1;32md:\\Cursos\\FIAP_pós\\gp27_techchallenge\\.venv\\lib\\site-packages\\pandas\\io\\common.py:737\u001b[0m, in \u001b[0;36mget_handle\u001b[1;34m(path_or_buf, mode, encoding, compression, memory_map, is_text, errors, storage_options)\u001b[0m\n\u001b[0;32m    735\u001b[0m \u001b[39m# Only for write methods\u001b[39;00m\n\u001b[0;32m    736\u001b[0m \u001b[39mif\u001b[39;00m \u001b[39m\"\u001b[39m\u001b[39mr\u001b[39m\u001b[39m\"\u001b[39m \u001b[39mnot\u001b[39;00m \u001b[39min\u001b[39;00m mode \u001b[39mand\u001b[39;00m is_path:\n\u001b[1;32m--> 737\u001b[0m     check_parent_directory(\u001b[39mstr\u001b[39;49m(handle))\n\u001b[0;32m    739\u001b[0m \u001b[39mif\u001b[39;00m compression:\n\u001b[0;32m    740\u001b[0m     \u001b[39mif\u001b[39;00m compression \u001b[39m!=\u001b[39m \u001b[39m\"\u001b[39m\u001b[39mzstd\u001b[39m\u001b[39m\"\u001b[39m:\n\u001b[0;32m    741\u001b[0m         \u001b[39m# compression libraries do not like an explicit text-mode\u001b[39;00m\n",
      "File \u001b[1;32md:\\Cursos\\FIAP_pós\\gp27_techchallenge\\.venv\\lib\\site-packages\\pandas\\io\\common.py:600\u001b[0m, in \u001b[0;36mcheck_parent_directory\u001b[1;34m(path)\u001b[0m\n\u001b[0;32m    598\u001b[0m parent \u001b[39m=\u001b[39m Path(path)\u001b[39m.\u001b[39mparent\n\u001b[0;32m    599\u001b[0m \u001b[39mif\u001b[39;00m \u001b[39mnot\u001b[39;00m parent\u001b[39m.\u001b[39mis_dir():\n\u001b[1;32m--> 600\u001b[0m     \u001b[39mraise\u001b[39;00m \u001b[39mOSError\u001b[39;00m(\u001b[39mrf\u001b[39m\u001b[39m\"\u001b[39m\u001b[39mCannot save file into a non-existent directory: \u001b[39m\u001b[39m'\u001b[39m\u001b[39m{\u001b[39;00mparent\u001b[39m}\u001b[39;00m\u001b[39m'\u001b[39m\u001b[39m\"\u001b[39m)\n",
      "\u001b[1;31mOSError\u001b[0m: Cannot save file into a non-existent directory: '..\\data\\raw\\wbpy'"
     ]
    }
   ],
   "source": [
    "import time\n",
    "\n",
    "dict_indicators = {\n",
    "      'inflation_consumer_prices' : 'FP.CPI.TOTL.ZG'\n",
    "    , 'gini_index' : 'SI.POV.GINI'\n",
    "    , 'numberof_procedures_register_business' : 'IC.REG.PROC'\n",
    "    , 'logistic_performance_index_1to5' : 'LP.LPI.OVRL.XQ'\n",
    "    , 'domestic_credit_to_private_sector' : 'FS.AST.PRVT.GD.ZS'\n",
    "    , 'population_growth' : 'SP.POP.GROW'\n",
    "}\n",
    "\n",
    "for key in dict_indicators:\n",
    "    list_results = []\n",
    "    for countries in chunker(list_of_countries, 10):\n",
    "      time.sleep(5)\n",
    "      try:\n",
    "        df = api.get_dataset(dict_indicators[key], countries, date=\"1970:2021\")\n",
    "        list_results.append(pd.DataFrame(df.as_dict()))\n",
    "      except:\n",
    "        print(f\"error in {countries}\")\n",
    "    pd.concat(list_results).to_csv(f\"..\\\\data\\\\raw\\\\wbpy\\\\{key}.csv\")"
   ]
  },
  {
   "cell_type": "code",
   "execution_count": 37,
   "metadata": {},
   "outputs": [],
   "source": [
    "import os\n",
    "\n",
    "os.environ['KAGGLE_USERNAME'] = \"gpehls\"  #manually input My_Kaggle User_Name \n",
    "os.environ['KAGGLE_KEY'] = \"5a7b49ccb42f7975d9ea5203f455a770\"  #\n",
    "\n",
    "import kaggle\n",
    "kaggle.api.authenticate()\n",
    "\n",
    "# https://www.kaggle.com/datasets/sevgisarac/temperature-change\n",
    "kaggle.api.dataset_download_files('sevgisarac/temperature-change', path='..\\\\data\\\\raw\\\\temp_change', unzip=True)\n",
    "\n",
    "# https://www.kaggle.com/datasets/noaa/noaa-global-historical-climatology-network-daily\n",
    "kaggle.api.dataset_download_files('noaa/noaa-global-historical-climatology-network-daily', path='..\\\\data\\\\raw\\\\noaa_global', unzip=True)"
   ]
  },
  {
   "cell_type": "code",
   "execution_count": null,
   "metadata": {},
   "outputs": [],
   "source": []
  }
 ],
 "metadata": {
  "kernelspec": {
   "display_name": "Python 3",
   "language": "python",
   "name": "python3"
  },
  "language_info": {
   "codemirror_mode": {
    "name": "ipython",
    "version": 3
   },
   "file_extension": ".py",
   "mimetype": "text/x-python",
   "name": "python",
   "nbconvert_exporter": "python",
   "pygments_lexer": "ipython3",
   "version": "3.10.4"
  },
  "orig_nbformat": 4
 },
 "nbformat": 4,
 "nbformat_minor": 2
}
